{
 "cells": [
  {
   "cell_type": "markdown",
   "id": "76be691b-3920-4f30-a17a-e35fc5743d7e",
   "metadata": {},
   "source": [
    "# Curso Veliz Platzi"
   ]
  },
  {
   "cell_type": "markdown",
   "id": "5f37ef0c-297d-49fc-b0c8-3f43c44243b1",
   "metadata": {},
   "source": [
    "### Cargando datos, paquete palmerpenguins"
   ]
  },
  {
   "cell_type": "markdown",
   "id": "3a83e008-df26-40cb-98a1-f2b2858e5b9e",
   "metadata": {},
   "source": [
    "### Datos pre-procesados"
   ]
  },
  {
   "cell_type": "code",
   "execution_count": 31,
   "id": "cd209948-7df6-4860-ba02-4d76f811b7f4",
   "metadata": {},
   "outputs": [],
   "source": [
    "import pandas as pd\n",
    "import seaborn as sns"
   ]
  },
  {
   "cell_type": "code",
   "execution_count": 13,
   "id": "f4c93630-9e15-437c-9ce1-0aba2286990d",
   "metadata": {},
   "outputs": [
    {
     "data": {
      "text/html": [
       "<div>\n",
       "<style scoped>\n",
       "    .dataframe tbody tr th:only-of-type {\n",
       "        vertical-align: middle;\n",
       "    }\n",
       "\n",
       "    .dataframe tbody tr th {\n",
       "        vertical-align: top;\n",
       "    }\n",
       "\n",
       "    .dataframe thead th {\n",
       "        text-align: right;\n",
       "    }\n",
       "</style>\n",
       "<table border=\"1\" class=\"dataframe\">\n",
       "  <thead>\n",
       "    <tr style=\"text-align: right;\">\n",
       "      <th></th>\n",
       "      <th>species</th>\n",
       "      <th>island</th>\n",
       "      <th>bill_length_mm</th>\n",
       "      <th>bill_depth_mm</th>\n",
       "      <th>flipper_length_mm</th>\n",
       "      <th>body_mass_g</th>\n",
       "      <th>sex</th>\n",
       "      <th>year</th>\n",
       "    </tr>\n",
       "  </thead>\n",
       "  <tbody>\n",
       "    <tr>\n",
       "      <th>0</th>\n",
       "      <td>Adelie</td>\n",
       "      <td>Torgersen</td>\n",
       "      <td>39.1</td>\n",
       "      <td>18.7</td>\n",
       "      <td>181.0</td>\n",
       "      <td>3750.0</td>\n",
       "      <td>male</td>\n",
       "      <td>2007</td>\n",
       "    </tr>\n",
       "    <tr>\n",
       "      <th>1</th>\n",
       "      <td>Adelie</td>\n",
       "      <td>Torgersen</td>\n",
       "      <td>39.5</td>\n",
       "      <td>17.4</td>\n",
       "      <td>186.0</td>\n",
       "      <td>3800.0</td>\n",
       "      <td>female</td>\n",
       "      <td>2007</td>\n",
       "    </tr>\n",
       "    <tr>\n",
       "      <th>2</th>\n",
       "      <td>Adelie</td>\n",
       "      <td>Torgersen</td>\n",
       "      <td>40.3</td>\n",
       "      <td>18.0</td>\n",
       "      <td>195.0</td>\n",
       "      <td>3250.0</td>\n",
       "      <td>female</td>\n",
       "      <td>2007</td>\n",
       "    </tr>\n",
       "    <tr>\n",
       "      <th>3</th>\n",
       "      <td>Adelie</td>\n",
       "      <td>Torgersen</td>\n",
       "      <td>NaN</td>\n",
       "      <td>NaN</td>\n",
       "      <td>NaN</td>\n",
       "      <td>NaN</td>\n",
       "      <td>NaN</td>\n",
       "      <td>2007</td>\n",
       "    </tr>\n",
       "    <tr>\n",
       "      <th>4</th>\n",
       "      <td>Adelie</td>\n",
       "      <td>Torgersen</td>\n",
       "      <td>36.7</td>\n",
       "      <td>19.3</td>\n",
       "      <td>193.0</td>\n",
       "      <td>3450.0</td>\n",
       "      <td>female</td>\n",
       "      <td>2007</td>\n",
       "    </tr>\n",
       "  </tbody>\n",
       "</table>\n",
       "</div>"
      ],
      "text/plain": [
       "  species     island  bill_length_mm  bill_depth_mm  flipper_length_mm  \\\n",
       "0  Adelie  Torgersen            39.1           18.7              181.0   \n",
       "1  Adelie  Torgersen            39.5           17.4              186.0   \n",
       "2  Adelie  Torgersen            40.3           18.0              195.0   \n",
       "3  Adelie  Torgersen             NaN            NaN                NaN   \n",
       "4  Adelie  Torgersen            36.7           19.3              193.0   \n",
       "\n",
       "   body_mass_g     sex  year  \n",
       "0       3750.0    male  2007  \n",
       "1       3800.0  female  2007  \n",
       "2       3250.0  female  2007  \n",
       "3          NaN     NaN  2007  \n",
       "4       3450.0  female  2007  "
      ]
     },
     "execution_count": 13,
     "metadata": {},
     "output_type": "execute_result"
    }
   ],
   "source": [
    "pre_penguin_df =pd.read_csv('penguin.csv')\n",
    "pre_penguin_df.head()"
   ]
  },
  {
   "cell_type": "markdown",
   "id": "4bb5e4e7-be4a-47f1-9776-e4246adc3e62",
   "metadata": {},
   "source": [
    "### Que tipo de dato son las variables del conjunto de datos?"
   ]
  },
  {
   "cell_type": "code",
   "execution_count": 16,
   "id": "bc7c8016-c61d-48ae-b94c-3f53b49cb9db",
   "metadata": {},
   "outputs": [
    {
     "data": {
      "text/plain": [
       "species               object\n",
       "island                object\n",
       "bill_length_mm       float64\n",
       "bill_depth_mm        float64\n",
       "flipper_length_mm    float64\n",
       "body_mass_g          float64\n",
       "sex                   object\n",
       "year                   int64\n",
       "dtype: object"
      ]
     },
     "execution_count": 16,
     "metadata": {},
     "output_type": "execute_result"
    }
   ],
   "source": [
    "pre_penguin_df.dtypes"
   ]
  },
  {
   "cell_type": "markdown",
   "id": "585f4b21-e26b-4fc9-8ce2-1078e71e28b0",
   "metadata": {},
   "source": [
    "### Cuantas variables de cada tipo de dato tenemos en el conjunto de datos?"
   ]
  },
  {
   "cell_type": "code",
   "execution_count": 23,
   "id": "2610825e-1d21-4264-ab13-cd2304804843",
   "metadata": {},
   "outputs": [
    {
     "data": {
      "text/plain": [
       "float64    4\n",
       "object     3\n",
       "int64      1\n",
       "dtype: int64"
      ]
     },
     "execution_count": 23,
     "metadata": {},
     "output_type": "execute_result"
    }
   ],
   "source": [
    "(\n",
    "    pre_penguin_df\n",
    "    .dtypes\n",
    "    .value_counts()\n",
    ")"
   ]
  },
  {
   "cell_type": "markdown",
   "id": "576d0e07-fb59-40e8-be09-585300ab9d9f",
   "metadata": {},
   "source": [
    "### Cuantas variables y observaciones tenemos en el conjunto de datos"
   ]
  },
  {
   "cell_type": "code",
   "execution_count": 21,
   "id": "c4776514-f8c5-4a82-83fd-e4a4a60362df",
   "metadata": {},
   "outputs": [
    {
     "data": {
      "text/plain": [
       "(344, 8)"
      ]
     },
     "execution_count": 21,
     "metadata": {},
     "output_type": "execute_result"
    }
   ],
   "source": [
    "pre_penguin_df.shape"
   ]
  },
  {
   "cell_type": "markdown",
   "id": "3e520c25-2e10-4a84-81e8-89ce85d6ec30",
   "metadata": {},
   "source": [
    "### Existen valores nulos explicios en el conjunto de datos?"
   ]
  },
  {
   "cell_type": "code",
   "execution_count": 24,
   "id": "dac826bc-d2f5-4a7f-85d7-0a1a5061b209",
   "metadata": {},
   "outputs": [
    {
     "data": {
      "text/plain": [
       "species              False\n",
       "island               False\n",
       "bill_length_mm        True\n",
       "bill_depth_mm         True\n",
       "flipper_length_mm     True\n",
       "body_mass_g           True\n",
       "sex                   True\n",
       "year                 False\n",
       "dtype: bool"
      ]
     },
     "execution_count": 24,
     "metadata": {},
     "output_type": "execute_result"
    }
   ],
   "source": [
    "(\n",
    "    pre_penguin_df\n",
    "    .isnull()\n",
    "    .any()\n",
    ")"
   ]
  },
  {
   "cell_type": "markdown",
   "id": "a264284c-a55a-4449-a6d5-954e0eaaa060",
   "metadata": {},
   "source": [
    "### De tener valores nulos, cuantas tenemos por cada variable?"
   ]
  },
  {
   "cell_type": "code",
   "execution_count": 26,
   "id": "fa606f47-66c0-41a2-96ea-dabe2374b145",
   "metadata": {},
   "outputs": [
    {
     "data": {
      "text/plain": [
       "species               0\n",
       "island                0\n",
       "bill_length_mm        2\n",
       "bill_depth_mm         2\n",
       "flipper_length_mm     2\n",
       "body_mass_g           2\n",
       "sex                  11\n",
       "year                  0\n",
       "dtype: int64"
      ]
     },
     "execution_count": 26,
     "metadata": {},
     "output_type": "execute_result"
    }
   ],
   "source": [
    "(\n",
    "    pre_penguin_df\n",
    "    .isnull()\n",
    "    .sum()\n",
    ")"
   ]
  },
  {
   "cell_type": "markdown",
   "id": "7214fb3c-6dd1-41a3-8b21-ae1441dd09d1",
   "metadata": {},
   "source": [
    "### Cuantos valores nulos tenems en total en el conjunto de datos"
   ]
  },
  {
   "cell_type": "code",
   "execution_count": 28,
   "id": "77f18d32-8db9-467e-bc6f-6752e0c2e769",
   "metadata": {},
   "outputs": [
    {
     "data": {
      "text/plain": [
       "19"
      ]
     },
     "execution_count": 28,
     "metadata": {},
     "output_type": "execute_result"
    }
   ],
   "source": [
    "(\n",
    "    pre_penguin_df\n",
    "    .isnull()\n",
    "    .sum()\n",
    "    .sum()\n",
    ")"
   ]
  },
  {
   "cell_type": "markdown",
   "id": "c38f0ecf-6a7c-4e9b-9ab9-c1a7e0bab4dc",
   "metadata": {},
   "source": [
    "### CUal es la proporcion de valores nulos por cada variable?"
   ]
  },
  {
   "cell_type": "code",
   "execution_count": 35,
   "id": "a53b6419-80ab-4218-8613-b299108edd3e",
   "metadata": {},
   "outputs": [
    {
     "data": {
      "text/plain": [
       "<seaborn.axisgrid.FacetGrid at 0x7f73987ddfd0>"
      ]
     },
     "execution_count": 35,
     "metadata": {},
     "output_type": "execute_result"
    },
    {
     "data": {
      "image/png": "[encoded data removed]",
      "text/plain": [
       "<Figure size 781.25x360 with 1 Axes>"
      ]
     },
     "metadata": {
      "needs_background": "light"
     },
     "output_type": "display_data"
    }
   ],
   "source": [
    "(\n",
    "    pre_penguin_df\n",
    "    .isnull()\n",
    "    .melt()\n",
    "    .pipe(\n",
    "        lambda df: (\n",
    "            sns.displot(\n",
    "                data=df,\n",
    "                y='variable',\n",
    "                hue='value',\n",
    "                multiple='fill',\n",
    "                aspect=2\n",
    "            )\n",
    "        )\n",
    "    )\n",
    "    \n",
    ")"
   ]
  },
  {
   "cell_type": "code",
   "execution_count": null,
   "id": "c6f8e683-38fb-48ec-beb8-b93a11bb7c8d",
   "metadata": {},
   "outputs": [],
   "source": []
  }
 ],
 "metadata": {
  "kernelspec": {
   "display_name": "Python 3 (ipykernel)",
   "language": "python",
   "name": "python3"
  },
  "language_info": {
   "codemirror_mode": {
    "name": "ipython",
    "version": 3
   },
   "file_extension": ".py",
   "mimetype": "text/x-python",
   "name": "python",
   "nbconvert_exporter": "python",
   "pygments_lexer": "ipython3",
   "version": "3.9.7"
  }
 },
 "nbformat": 4,
 "nbformat_minor": 5
}
