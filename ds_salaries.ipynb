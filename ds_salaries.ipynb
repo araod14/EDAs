{
 "cells": [
  {
   "cell_type": "code",
   "execution_count": 28,
   "id": "9cd2980d-27f8-45e1-aa18-5e4250460d30",
   "metadata": {},
   "outputs": [],
   "source": [
    "import pandas as pd\n",
    "import matplotlib.pyplot as plt\n",
    "from matplotlib.ticker import FuncFormatter\n",
    "import seaborn as sns"
   ]
  },
  {
   "cell_type": "code",
   "execution_count": 2,
   "id": "d92616d1-17d6-4d0c-a76c-8e85e574459e",
   "metadata": {},
   "outputs": [],
   "source": [
    "ds_salaries_df=pd.read_csv(\"ds_salaries.csv\")"
   ]
  },
  {
   "cell_type": "code",
   "execution_count": 3,
   "id": "26a6173f-dd5e-4dbb-b991-5a285227665e",
   "metadata": {},
   "outputs": [
    {
     "data": {
      "text/html": [
       "<div>\n",
       "<style scoped>\n",
       "    .dataframe tbody tr th:only-of-type {\n",
       "        vertical-align: middle;\n",
       "    }\n",
       "\n",
       "    .dataframe tbody tr th {\n",
       "        vertical-align: top;\n",
       "    }\n",
       "\n",
       "    .dataframe thead th {\n",
       "        text-align: right;\n",
       "    }\n",
       "</style>\n",
       "<table border=\"1\" class=\"dataframe\">\n",
       "  <thead>\n",
       "    <tr style=\"text-align: right;\">\n",
       "      <th></th>\n",
       "      <th>Unnamed: 0</th>\n",
       "      <th>work_year</th>\n",
       "      <th>experience_level</th>\n",
       "      <th>employment_type</th>\n",
       "      <th>job_title</th>\n",
       "      <th>salary</th>\n",
       "      <th>salary_currency</th>\n",
       "      <th>salary_in_usd</th>\n",
       "      <th>employee_residence</th>\n",
       "      <th>remote_ratio</th>\n",
       "      <th>company_location</th>\n",
       "      <th>company_size</th>\n",
       "    </tr>\n",
       "  </thead>\n",
       "  <tbody>\n",
       "    <tr>\n",
       "      <th>0</th>\n",
       "      <td>0</td>\n",
       "      <td>2020</td>\n",
       "      <td>MI</td>\n",
       "      <td>FT</td>\n",
       "      <td>Data Scientist</td>\n",
       "      <td>70000</td>\n",
       "      <td>EUR</td>\n",
       "      <td>79833</td>\n",
       "      <td>DE</td>\n",
       "      <td>0</td>\n",
       "      <td>DE</td>\n",
       "      <td>L</td>\n",
       "    </tr>\n",
       "    <tr>\n",
       "      <th>1</th>\n",
       "      <td>1</td>\n",
       "      <td>2020</td>\n",
       "      <td>SE</td>\n",
       "      <td>FT</td>\n",
       "      <td>Machine Learning Scientist</td>\n",
       "      <td>260000</td>\n",
       "      <td>USD</td>\n",
       "      <td>260000</td>\n",
       "      <td>JP</td>\n",
       "      <td>0</td>\n",
       "      <td>JP</td>\n",
       "      <td>S</td>\n",
       "    </tr>\n",
       "    <tr>\n",
       "      <th>2</th>\n",
       "      <td>2</td>\n",
       "      <td>2020</td>\n",
       "      <td>SE</td>\n",
       "      <td>FT</td>\n",
       "      <td>Big Data Engineer</td>\n",
       "      <td>85000</td>\n",
       "      <td>GBP</td>\n",
       "      <td>109024</td>\n",
       "      <td>GB</td>\n",
       "      <td>50</td>\n",
       "      <td>GB</td>\n",
       "      <td>M</td>\n",
       "    </tr>\n",
       "    <tr>\n",
       "      <th>3</th>\n",
       "      <td>3</td>\n",
       "      <td>2020</td>\n",
       "      <td>MI</td>\n",
       "      <td>FT</td>\n",
       "      <td>Product Data Analyst</td>\n",
       "      <td>20000</td>\n",
       "      <td>USD</td>\n",
       "      <td>20000</td>\n",
       "      <td>HN</td>\n",
       "      <td>0</td>\n",
       "      <td>HN</td>\n",
       "      <td>S</td>\n",
       "    </tr>\n",
       "    <tr>\n",
       "      <th>4</th>\n",
       "      <td>4</td>\n",
       "      <td>2020</td>\n",
       "      <td>SE</td>\n",
       "      <td>FT</td>\n",
       "      <td>Machine Learning Engineer</td>\n",
       "      <td>150000</td>\n",
       "      <td>USD</td>\n",
       "      <td>150000</td>\n",
       "      <td>US</td>\n",
       "      <td>50</td>\n",
       "      <td>US</td>\n",
       "      <td>L</td>\n",
       "    </tr>\n",
       "  </tbody>\n",
       "</table>\n",
       "</div>"
      ],
      "text/plain": [
       "   Unnamed: 0  work_year experience_level employment_type  \\\n",
       "0           0       2020               MI              FT   \n",
       "1           1       2020               SE              FT   \n",
       "2           2       2020               SE              FT   \n",
       "3           3       2020               MI              FT   \n",
       "4           4       2020               SE              FT   \n",
       "\n",
       "                    job_title  salary salary_currency  salary_in_usd  \\\n",
       "0              Data Scientist   70000             EUR          79833   \n",
       "1  Machine Learning Scientist  260000             USD         260000   \n",
       "2           Big Data Engineer   85000             GBP         109024   \n",
       "3        Product Data Analyst   20000             USD          20000   \n",
       "4   Machine Learning Engineer  150000             USD         150000   \n",
       "\n",
       "  employee_residence  remote_ratio company_location company_size  \n",
       "0                 DE             0               DE            L  \n",
       "1                 JP             0               JP            S  \n",
       "2                 GB            50               GB            M  \n",
       "3                 HN             0               HN            S  \n",
       "4                 US            50               US            L  "
      ]
     },
     "execution_count": 3,
     "metadata": {},
     "output_type": "execute_result"
    }
   ],
   "source": [
    "ds_salaries_df.head()"
   ]
  },
  {
   "cell_type": "code",
   "execution_count": 4,
   "id": "77ecd2ac-4b0d-40e9-a0f7-a034c16095dc",
   "metadata": {},
   "outputs": [
    {
     "data": {
      "text/plain": [
       "(607, 12)"
      ]
     },
     "execution_count": 4,
     "metadata": {},
     "output_type": "execute_result"
    }
   ],
   "source": [
    "ds_salaries_df.shape"
   ]
  },
  {
   "cell_type": "code",
   "execution_count": 5,
   "id": "994b12d7-420c-42e7-9ff7-c6d96add1ed7",
   "metadata": {},
   "outputs": [
    {
     "data": {
      "text/plain": [
       "Unnamed: 0             int64\n",
       "work_year              int64\n",
       "experience_level      object\n",
       "employment_type       object\n",
       "job_title             object\n",
       "salary                 int64\n",
       "salary_currency       object\n",
       "salary_in_usd          int64\n",
       "employee_residence    object\n",
       "remote_ratio           int64\n",
       "company_location      object\n",
       "company_size          object\n",
       "dtype: object"
      ]
     },
     "execution_count": 5,
     "metadata": {},
     "output_type": "execute_result"
    }
   ],
   "source": [
    "ds_salaries_df.dtypes"
   ]
  },
  {
   "cell_type": "code",
   "execution_count": 6,
   "id": "6613a64b-4dac-44c8-ba53-46f3ca4e53f3",
   "metadata": {},
   "outputs": [
    {
     "data": {
      "text/plain": [
       "Unnamed: 0            0\n",
       "work_year             0\n",
       "experience_level      0\n",
       "employment_type       0\n",
       "job_title             0\n",
       "salary                0\n",
       "salary_currency       0\n",
       "salary_in_usd         0\n",
       "employee_residence    0\n",
       "remote_ratio          0\n",
       "company_location      0\n",
       "company_size          0\n",
       "dtype: int64"
      ]
     },
     "execution_count": 6,
     "metadata": {},
     "output_type": "execute_result"
    }
   ],
   "source": [
    "ds_salaries_df.isnull().sum(axis=0)"
   ]
  },
  {
   "cell_type": "code",
   "execution_count": 7,
   "id": "8603d4d4-5ebb-427f-9bc7-6d7a013d7ac9",
   "metadata": {},
   "outputs": [
    {
     "data": {
      "text/html": [
       "<div>\n",
       "<style scoped>\n",
       "    .dataframe tbody tr th:only-of-type {\n",
       "        vertical-align: middle;\n",
       "    }\n",
       "\n",
       "    .dataframe tbody tr th {\n",
       "        vertical-align: top;\n",
       "    }\n",
       "\n",
       "    .dataframe thead th {\n",
       "        text-align: right;\n",
       "    }\n",
       "</style>\n",
       "<table border=\"1\" class=\"dataframe\">\n",
       "  <thead>\n",
       "    <tr style=\"text-align: right;\">\n",
       "      <th></th>\n",
       "      <th>Unnamed: 0</th>\n",
       "      <th>work_year</th>\n",
       "      <th>salary</th>\n",
       "      <th>salary_in_usd</th>\n",
       "      <th>remote_ratio</th>\n",
       "    </tr>\n",
       "  </thead>\n",
       "  <tbody>\n",
       "    <tr>\n",
       "      <th>count</th>\n",
       "      <td>607.000000</td>\n",
       "      <td>607.000000</td>\n",
       "      <td>6.070000e+02</td>\n",
       "      <td>607.000000</td>\n",
       "      <td>607.00000</td>\n",
       "    </tr>\n",
       "    <tr>\n",
       "      <th>mean</th>\n",
       "      <td>303.000000</td>\n",
       "      <td>2021.405272</td>\n",
       "      <td>3.240001e+05</td>\n",
       "      <td>112297.869852</td>\n",
       "      <td>70.92257</td>\n",
       "    </tr>\n",
       "    <tr>\n",
       "      <th>std</th>\n",
       "      <td>175.370085</td>\n",
       "      <td>0.692133</td>\n",
       "      <td>1.544357e+06</td>\n",
       "      <td>70957.259411</td>\n",
       "      <td>40.70913</td>\n",
       "    </tr>\n",
       "    <tr>\n",
       "      <th>min</th>\n",
       "      <td>0.000000</td>\n",
       "      <td>2020.000000</td>\n",
       "      <td>4.000000e+03</td>\n",
       "      <td>2859.000000</td>\n",
       "      <td>0.00000</td>\n",
       "    </tr>\n",
       "    <tr>\n",
       "      <th>25%</th>\n",
       "      <td>151.500000</td>\n",
       "      <td>2021.000000</td>\n",
       "      <td>7.000000e+04</td>\n",
       "      <td>62726.000000</td>\n",
       "      <td>50.00000</td>\n",
       "    </tr>\n",
       "    <tr>\n",
       "      <th>50%</th>\n",
       "      <td>303.000000</td>\n",
       "      <td>2022.000000</td>\n",
       "      <td>1.150000e+05</td>\n",
       "      <td>101570.000000</td>\n",
       "      <td>100.00000</td>\n",
       "    </tr>\n",
       "    <tr>\n",
       "      <th>75%</th>\n",
       "      <td>454.500000</td>\n",
       "      <td>2022.000000</td>\n",
       "      <td>1.650000e+05</td>\n",
       "      <td>150000.000000</td>\n",
       "      <td>100.00000</td>\n",
       "    </tr>\n",
       "    <tr>\n",
       "      <th>max</th>\n",
       "      <td>606.000000</td>\n",
       "      <td>2022.000000</td>\n",
       "      <td>3.040000e+07</td>\n",
       "      <td>600000.000000</td>\n",
       "      <td>100.00000</td>\n",
       "    </tr>\n",
       "  </tbody>\n",
       "</table>\n",
       "</div>"
      ],
      "text/plain": [
       "       Unnamed: 0    work_year        salary  salary_in_usd  remote_ratio\n",
       "count  607.000000   607.000000  6.070000e+02     607.000000     607.00000\n",
       "mean   303.000000  2021.405272  3.240001e+05  112297.869852      70.92257\n",
       "std    175.370085     0.692133  1.544357e+06   70957.259411      40.70913\n",
       "min      0.000000  2020.000000  4.000000e+03    2859.000000       0.00000\n",
       "25%    151.500000  2021.000000  7.000000e+04   62726.000000      50.00000\n",
       "50%    303.000000  2022.000000  1.150000e+05  101570.000000     100.00000\n",
       "75%    454.500000  2022.000000  1.650000e+05  150000.000000     100.00000\n",
       "max    606.000000  2022.000000  3.040000e+07  600000.000000     100.00000"
      ]
     },
     "execution_count": 7,
     "metadata": {},
     "output_type": "execute_result"
    }
   ],
   "source": [
    "ds_salaries_df.describe()"
   ]
  },
  {
   "cell_type": "code",
   "execution_count": 8,
   "id": "8c1b45f1-86b7-4ed4-a40f-be38b3dcaff7",
   "metadata": {},
   "outputs": [
    {
     "data": {
      "text/html": [
       "<div>\n",
       "<style scoped>\n",
       "    .dataframe tbody tr th:only-of-type {\n",
       "        vertical-align: middle;\n",
       "    }\n",
       "\n",
       "    .dataframe tbody tr th {\n",
       "        vertical-align: top;\n",
       "    }\n",
       "\n",
       "    .dataframe thead th {\n",
       "        text-align: right;\n",
       "    }\n",
       "</style>\n",
       "<table border=\"1\" class=\"dataframe\">\n",
       "  <thead>\n",
       "    <tr style=\"text-align: right;\">\n",
       "      <th></th>\n",
       "      <th>salary_in_usd</th>\n",
       "      <th>remote_ratio</th>\n",
       "    </tr>\n",
       "  </thead>\n",
       "  <tbody>\n",
       "    <tr>\n",
       "      <th>count</th>\n",
       "      <td>607.000000</td>\n",
       "      <td>607.00000</td>\n",
       "    </tr>\n",
       "    <tr>\n",
       "      <th>mean</th>\n",
       "      <td>112297.869852</td>\n",
       "      <td>70.92257</td>\n",
       "    </tr>\n",
       "    <tr>\n",
       "      <th>std</th>\n",
       "      <td>70957.259411</td>\n",
       "      <td>40.70913</td>\n",
       "    </tr>\n",
       "    <tr>\n",
       "      <th>min</th>\n",
       "      <td>2859.000000</td>\n",
       "      <td>0.00000</td>\n",
       "    </tr>\n",
       "    <tr>\n",
       "      <th>25%</th>\n",
       "      <td>62726.000000</td>\n",
       "      <td>50.00000</td>\n",
       "    </tr>\n",
       "    <tr>\n",
       "      <th>50%</th>\n",
       "      <td>101570.000000</td>\n",
       "      <td>100.00000</td>\n",
       "    </tr>\n",
       "    <tr>\n",
       "      <th>75%</th>\n",
       "      <td>150000.000000</td>\n",
       "      <td>100.00000</td>\n",
       "    </tr>\n",
       "    <tr>\n",
       "      <th>max</th>\n",
       "      <td>600000.000000</td>\n",
       "      <td>100.00000</td>\n",
       "    </tr>\n",
       "  </tbody>\n",
       "</table>\n",
       "</div>"
      ],
      "text/plain": [
       "       salary_in_usd  remote_ratio\n",
       "count     607.000000     607.00000\n",
       "mean   112297.869852      70.92257\n",
       "std     70957.259411      40.70913\n",
       "min      2859.000000       0.00000\n",
       "25%     62726.000000      50.00000\n",
       "50%    101570.000000     100.00000\n",
       "75%    150000.000000     100.00000\n",
       "max    600000.000000     100.00000"
      ]
     },
     "execution_count": 8,
     "metadata": {},
     "output_type": "execute_result"
    }
   ],
   "source": [
    "ds_salaries_df[[\"salary_in_usd\",\"remote_ratio\"]].describe()"
   ]
  },
  {
   "cell_type": "code",
   "execution_count": 9,
   "id": "587767f6-c22f-4033-b332-3b9f4f83f119",
   "metadata": {},
   "outputs": [],
   "source": [
    "ds_salaries_df[\"salary_by_month\"]=ds_salaries_df[\"salary_in_usd\"]/12"
   ]
  },
  {
   "cell_type": "code",
   "execution_count": 10,
   "id": "47addbc5-c663-476a-bcf5-2eca6be87d36",
   "metadata": {},
   "outputs": [
    {
     "data": {
      "text/plain": [
       "count      607.000000\n",
       "mean      9358.155821\n",
       "std       5913.104951\n",
       "min        238.250000\n",
       "25%       5227.166667\n",
       "50%       8464.166667\n",
       "75%      12500.000000\n",
       "max      50000.000000\n",
       "Name: salary_by_month, dtype: float64"
      ]
     },
     "execution_count": 10,
     "metadata": {},
     "output_type": "execute_result"
    }
   ],
   "source": [
    "ds_salaries_df[\"salary_by_month\"].describe()"
   ]
  },
  {
   "cell_type": "code",
   "execution_count": 11,
   "id": "75340bca-a8a1-4041-abb3-9f391e0ca4f5",
   "metadata": {},
   "outputs": [
    {
     "data": {
      "text/html": [
       "<div>\n",
       "<style scoped>\n",
       "    .dataframe tbody tr th:only-of-type {\n",
       "        vertical-align: middle;\n",
       "    }\n",
       "\n",
       "    .dataframe tbody tr th {\n",
       "        vertical-align: top;\n",
       "    }\n",
       "\n",
       "    .dataframe thead th {\n",
       "        text-align: right;\n",
       "    }\n",
       "</style>\n",
       "<table border=\"1\" class=\"dataframe\">\n",
       "  <thead>\n",
       "    <tr style=\"text-align: right;\">\n",
       "      <th></th>\n",
       "      <th>remote_ratio</th>\n",
       "      <th>salary_by_month</th>\n",
       "    </tr>\n",
       "  </thead>\n",
       "  <tbody>\n",
       "    <tr>\n",
       "      <th>remote_ratio</th>\n",
       "      <td>1.000000</td>\n",
       "      <td>0.132122</td>\n",
       "    </tr>\n",
       "    <tr>\n",
       "      <th>salary_by_month</th>\n",
       "      <td>0.132122</td>\n",
       "      <td>1.000000</td>\n",
       "    </tr>\n",
       "  </tbody>\n",
       "</table>\n",
       "</div>"
      ],
      "text/plain": [
       "                 remote_ratio  salary_by_month\n",
       "remote_ratio         1.000000         0.132122\n",
       "salary_by_month      0.132122         1.000000"
      ]
     },
     "execution_count": 11,
     "metadata": {},
     "output_type": "execute_result"
    }
   ],
   "source": [
    "ds_salaries_df[[\"remote_ratio\",\"salary_by_month\"]].corr()"
   ]
  },
  {
   "cell_type": "code",
   "execution_count": 12,
   "id": "41e79d17-020b-48de-92f7-67237834822d",
   "metadata": {},
   "outputs": [
    {
     "data": {
      "text/html": [
       "<div>\n",
       "<style scoped>\n",
       "    .dataframe tbody tr th:only-of-type {\n",
       "        vertical-align: middle;\n",
       "    }\n",
       "\n",
       "    .dataframe tbody tr th {\n",
       "        vertical-align: top;\n",
       "    }\n",
       "\n",
       "    .dataframe thead th {\n",
       "        text-align: right;\n",
       "    }\n",
       "</style>\n",
       "<table border=\"1\" class=\"dataframe\">\n",
       "  <thead>\n",
       "    <tr style=\"text-align: right;\">\n",
       "      <th>col_0</th>\n",
       "      <th>Count</th>\n",
       "    </tr>\n",
       "    <tr>\n",
       "      <th>job_title</th>\n",
       "      <th></th>\n",
       "    </tr>\n",
       "  </thead>\n",
       "  <tbody>\n",
       "    <tr>\n",
       "      <th>3D Computer Vision Researcher</th>\n",
       "      <td>1</td>\n",
       "    </tr>\n",
       "    <tr>\n",
       "      <th>AI Scientist</th>\n",
       "      <td>7</td>\n",
       "    </tr>\n",
       "    <tr>\n",
       "      <th>Analytics Engineer</th>\n",
       "      <td>4</td>\n",
       "    </tr>\n",
       "    <tr>\n",
       "      <th>Applied Data Scientist</th>\n",
       "      <td>5</td>\n",
       "    </tr>\n",
       "    <tr>\n",
       "      <th>Applied Machine Learning Scientist</th>\n",
       "      <td>4</td>\n",
       "    </tr>\n",
       "    <tr>\n",
       "      <th>BI Data Analyst</th>\n",
       "      <td>6</td>\n",
       "    </tr>\n",
       "    <tr>\n",
       "      <th>Big Data Architect</th>\n",
       "      <td>1</td>\n",
       "    </tr>\n",
       "    <tr>\n",
       "      <th>Big Data Engineer</th>\n",
       "      <td>8</td>\n",
       "    </tr>\n",
       "    <tr>\n",
       "      <th>Business Data Analyst</th>\n",
       "      <td>5</td>\n",
       "    </tr>\n",
       "    <tr>\n",
       "      <th>Cloud Data Engineer</th>\n",
       "      <td>2</td>\n",
       "    </tr>\n",
       "    <tr>\n",
       "      <th>Computer Vision Engineer</th>\n",
       "      <td>6</td>\n",
       "    </tr>\n",
       "    <tr>\n",
       "      <th>Computer Vision Software Engineer</th>\n",
       "      <td>3</td>\n",
       "    </tr>\n",
       "    <tr>\n",
       "      <th>Data Analyst</th>\n",
       "      <td>97</td>\n",
       "    </tr>\n",
       "    <tr>\n",
       "      <th>Data Analytics Engineer</th>\n",
       "      <td>4</td>\n",
       "    </tr>\n",
       "    <tr>\n",
       "      <th>Data Analytics Lead</th>\n",
       "      <td>1</td>\n",
       "    </tr>\n",
       "    <tr>\n",
       "      <th>Data Analytics Manager</th>\n",
       "      <td>7</td>\n",
       "    </tr>\n",
       "    <tr>\n",
       "      <th>Data Architect</th>\n",
       "      <td>11</td>\n",
       "    </tr>\n",
       "    <tr>\n",
       "      <th>Data Engineer</th>\n",
       "      <td>132</td>\n",
       "    </tr>\n",
       "    <tr>\n",
       "      <th>Data Engineering Manager</th>\n",
       "      <td>5</td>\n",
       "    </tr>\n",
       "    <tr>\n",
       "      <th>Data Science Consultant</th>\n",
       "      <td>7</td>\n",
       "    </tr>\n",
       "    <tr>\n",
       "      <th>Data Science Engineer</th>\n",
       "      <td>3</td>\n",
       "    </tr>\n",
       "    <tr>\n",
       "      <th>Data Science Manager</th>\n",
       "      <td>12</td>\n",
       "    </tr>\n",
       "    <tr>\n",
       "      <th>Data Scientist</th>\n",
       "      <td>143</td>\n",
       "    </tr>\n",
       "    <tr>\n",
       "      <th>Data Specialist</th>\n",
       "      <td>1</td>\n",
       "    </tr>\n",
       "    <tr>\n",
       "      <th>Director of Data Engineering</th>\n",
       "      <td>2</td>\n",
       "    </tr>\n",
       "    <tr>\n",
       "      <th>Director of Data Science</th>\n",
       "      <td>7</td>\n",
       "    </tr>\n",
       "    <tr>\n",
       "      <th>ETL Developer</th>\n",
       "      <td>2</td>\n",
       "    </tr>\n",
       "    <tr>\n",
       "      <th>Finance Data Analyst</th>\n",
       "      <td>1</td>\n",
       "    </tr>\n",
       "    <tr>\n",
       "      <th>Financial Data Analyst</th>\n",
       "      <td>2</td>\n",
       "    </tr>\n",
       "    <tr>\n",
       "      <th>Head of Data</th>\n",
       "      <td>5</td>\n",
       "    </tr>\n",
       "    <tr>\n",
       "      <th>Head of Data Science</th>\n",
       "      <td>4</td>\n",
       "    </tr>\n",
       "    <tr>\n",
       "      <th>Head of Machine Learning</th>\n",
       "      <td>1</td>\n",
       "    </tr>\n",
       "    <tr>\n",
       "      <th>Lead Data Analyst</th>\n",
       "      <td>3</td>\n",
       "    </tr>\n",
       "    <tr>\n",
       "      <th>Lead Data Engineer</th>\n",
       "      <td>6</td>\n",
       "    </tr>\n",
       "    <tr>\n",
       "      <th>Lead Data Scientist</th>\n",
       "      <td>3</td>\n",
       "    </tr>\n",
       "    <tr>\n",
       "      <th>Lead Machine Learning Engineer</th>\n",
       "      <td>1</td>\n",
       "    </tr>\n",
       "    <tr>\n",
       "      <th>ML Engineer</th>\n",
       "      <td>6</td>\n",
       "    </tr>\n",
       "    <tr>\n",
       "      <th>Machine Learning Developer</th>\n",
       "      <td>3</td>\n",
       "    </tr>\n",
       "    <tr>\n",
       "      <th>Machine Learning Engineer</th>\n",
       "      <td>41</td>\n",
       "    </tr>\n",
       "    <tr>\n",
       "      <th>Machine Learning Infrastructure Engineer</th>\n",
       "      <td>3</td>\n",
       "    </tr>\n",
       "    <tr>\n",
       "      <th>Machine Learning Manager</th>\n",
       "      <td>1</td>\n",
       "    </tr>\n",
       "    <tr>\n",
       "      <th>Machine Learning Scientist</th>\n",
       "      <td>8</td>\n",
       "    </tr>\n",
       "    <tr>\n",
       "      <th>Marketing Data Analyst</th>\n",
       "      <td>1</td>\n",
       "    </tr>\n",
       "    <tr>\n",
       "      <th>NLP Engineer</th>\n",
       "      <td>1</td>\n",
       "    </tr>\n",
       "    <tr>\n",
       "      <th>Principal Data Analyst</th>\n",
       "      <td>2</td>\n",
       "    </tr>\n",
       "    <tr>\n",
       "      <th>Principal Data Engineer</th>\n",
       "      <td>3</td>\n",
       "    </tr>\n",
       "    <tr>\n",
       "      <th>Principal Data Scientist</th>\n",
       "      <td>7</td>\n",
       "    </tr>\n",
       "    <tr>\n",
       "      <th>Product Data Analyst</th>\n",
       "      <td>2</td>\n",
       "    </tr>\n",
       "    <tr>\n",
       "      <th>Research Scientist</th>\n",
       "      <td>16</td>\n",
       "    </tr>\n",
       "    <tr>\n",
       "      <th>Staff Data Scientist</th>\n",
       "      <td>1</td>\n",
       "    </tr>\n",
       "  </tbody>\n",
       "</table>\n",
       "</div>"
      ],
      "text/plain": [
       "col_0                                     Count\n",
       "job_title                                      \n",
       "3D Computer Vision Researcher                 1\n",
       "AI Scientist                                  7\n",
       "Analytics Engineer                            4\n",
       "Applied Data Scientist                        5\n",
       "Applied Machine Learning Scientist            4\n",
       "BI Data Analyst                               6\n",
       "Big Data Architect                            1\n",
       "Big Data Engineer                             8\n",
       "Business Data Analyst                         5\n",
       "Cloud Data Engineer                           2\n",
       "Computer Vision Engineer                      6\n",
       "Computer Vision Software Engineer             3\n",
       "Data Analyst                                 97\n",
       "Data Analytics Engineer                       4\n",
       "Data Analytics Lead                           1\n",
       "Data Analytics Manager                        7\n",
       "Data Architect                               11\n",
       "Data Engineer                               132\n",
       "Data Engineering Manager                      5\n",
       "Data Science Consultant                       7\n",
       "Data Science Engineer                         3\n",
       "Data Science Manager                         12\n",
       "Data Scientist                              143\n",
       "Data Specialist                               1\n",
       "Director of Data Engineering                  2\n",
       "Director of Data Science                      7\n",
       "ETL Developer                                 2\n",
       "Finance Data Analyst                          1\n",
       "Financial Data Analyst                        2\n",
       "Head of Data                                  5\n",
       "Head of Data Science                          4\n",
       "Head of Machine Learning                      1\n",
       "Lead Data Analyst                             3\n",
       "Lead Data Engineer                            6\n",
       "Lead Data Scientist                           3\n",
       "Lead Machine Learning Engineer                1\n",
       "ML Engineer                                   6\n",
       "Machine Learning Developer                    3\n",
       "Machine Learning Engineer                    41\n",
       "Machine Learning Infrastructure Engineer      3\n",
       "Machine Learning Manager                      1\n",
       "Machine Learning Scientist                    8\n",
       "Marketing Data Analyst                        1\n",
       "NLP Engineer                                  1\n",
       "Principal Data Analyst                        2\n",
       "Principal Data Engineer                       3\n",
       "Principal Data Scientist                      7\n",
       "Product Data Analyst                          2\n",
       "Research Scientist                           16\n",
       "Staff Data Scientist                          1"
      ]
     },
     "execution_count": 12,
     "metadata": {},
     "output_type": "execute_result"
    }
   ],
   "source": [
    "pd.crosstab(ds_salaries_df[\"job_title\"], columns=\"Count\")"
   ]
  },
  {
   "cell_type": "code",
   "execution_count": 13,
   "id": "b03a193d-9052-4cc4-878d-f8aa29a4ea6a",
   "metadata": {},
   "outputs": [
    {
     "name": "stdout",
     "output_type": "stream",
     "text": [
      "<class 'pandas.core.frame.DataFrame'>\n",
      "RangeIndex: 607 entries, 0 to 606\n",
      "Data columns (total 13 columns):\n",
      " #   Column              Non-Null Count  Dtype  \n",
      "---  ------              --------------  -----  \n",
      " 0   Unnamed: 0          607 non-null    int64  \n",
      " 1   work_year           607 non-null    int64  \n",
      " 2   experience_level    607 non-null    object \n",
      " 3   employment_type     607 non-null    object \n",
      " 4   job_title           607 non-null    object \n",
      " 5   salary              607 non-null    int64  \n",
      " 6   salary_currency     607 non-null    object \n",
      " 7   salary_in_usd       607 non-null    int64  \n",
      " 8   employee_residence  607 non-null    object \n",
      " 9   remote_ratio        607 non-null    int64  \n",
      " 10  company_location    607 non-null    object \n",
      " 11  company_size        607 non-null    object \n",
      " 12  salary_by_month     607 non-null    float64\n",
      "dtypes: float64(1), int64(5), object(7)\n",
      "memory usage: 61.8+ KB\n"
     ]
    }
   ],
   "source": [
    "ds_salaries_df.info()"
   ]
  },
  {
   "cell_type": "markdown",
   "id": "0e314ac7-9aff-4fe2-b89c-0932edff2b5c",
   "metadata": {},
   "source": [
    "Entendiendo los datos:"
   ]
  },
  {
   "cell_type": "raw",
   "id": "783d9915-d4f4-4d79-beaf-bb704118b57c",
   "metadata": {},
   "source": [
    "Consiste en 11 columnas:\n",
    "Work_year: Año en el que salario fue cambiado\n",
    "experience_level: nivel de experiencia\n",
    "employment_type: tipo de empleo (medio tiempo, full, contacto, free)\n",
    "Salary: Salario\n",
    "Salary_currency: moneda con que se paga\n",
    "salary_in_usd: salario en dolares\n",
    "employee_residence: Residencia del empleado\n",
    "remote_ratio: cantidad del trabajo remoto (0 presecial, 50 parcial, 100 remoto)\n",
    "company_location: localizacion de la compañia\n",
    "company_size: Tamaño de la empresa    "
   ]
  },
  {
   "cell_type": "markdown",
   "id": "1da972c8-5bcf-43b3-aae6-37ec1a226cf2",
   "metadata": {},
   "source": [
    "Eliminando valores no intereantes"
   ]
  },
  {
   "cell_type": "code",
   "execution_count": 14,
   "id": "ce097feb-eb1c-4d23-8864-8e54eadfc402",
   "metadata": {},
   "outputs": [],
   "source": [
    "ds_salaries_df.drop([\"salary\", \"salary_currency\",\"salary_in_usd\"], axis= 1, inplace=True)"
   ]
  },
  {
   "cell_type": "markdown",
   "id": "cdc67014-34f8-4a11-9ef4-067aaa298cce",
   "metadata": {},
   "source": [
    "Graficando"
   ]
  },
  {
   "cell_type": "code",
   "execution_count": 15,
   "id": "3e2583f8-ccb7-4f08-890f-3371e04f72e0",
   "metadata": {},
   "outputs": [
    {
     "data": {
      "image/png": "[encoded data removed]",
      "text/plain": [
       "<Figure size 432x288 with 1 Axes>"
      ]
     },
     "metadata": {
      "needs_background": "light"
     },
     "output_type": "display_data"
    }
   ],
   "source": [
    "plt.hist(ds_salaries_df[\"salary_by_month\"])\n",
    "plt.show()"
   ]
  },
  {
   "cell_type": "code",
   "execution_count": 16,
   "id": "f3a77b60-6d01-46b8-8549-8de96a3d01f3",
   "metadata": {},
   "outputs": [
    {
     "data": {
      "text/plain": [
       "9358.155820977485"
      ]
     },
     "execution_count": 16,
     "metadata": {},
     "output_type": "execute_result"
    }
   ],
   "source": [
    "ds_salaries_df.salary_by_month.mean()"
   ]
  },
  {
   "cell_type": "markdown",
   "id": "b0919465-639f-47d4-87cc-e047171d6982",
   "metadata": {},
   "source": [
    "En Promedio se gana 10000 como DS"
   ]
  },
  {
   "cell_type": "code",
   "execution_count": 17,
   "id": "c9a890d3-35f1-4c24-abef-640fa6abb1cf",
   "metadata": {},
   "outputs": [
    {
     "data": {
      "text/plain": [
       "job_title\n",
       "3D Computer Vision Researcher                 450.750000\n",
       "AI Scientist                                 5511.297619\n",
       "Analytics Engineer                          14583.333333\n",
       "Applied Data Scientist                      14637.916667\n",
       "Applied Machine Learning Scientist          11839.062500\n",
       "BI Data Analyst                              6229.597222\n",
       "Big Data Architect                           8308.583333\n",
       "Big Data Engineer                            4331.166667\n",
       "Business Data Analyst                        6390.933333\n",
       "Cloud Data Engineer                         10387.250000\n",
       "Computer Vision Engineer                     3701.611111\n",
       "Computer Vision Software Engineer            8770.722222\n",
       "Data Analyst                                 7741.088488\n",
       "Data Analytics Engineer                      5399.937500\n",
       "Data Analytics Lead                         33750.000000\n",
       "Data Analytics Manager                      10594.523810\n",
       "Data Architect                              14822.825758\n",
       "Data Engineer                                9393.750000\n",
       "Data Engineering Manager                    10268.933333\n",
       "Data Science Consultant                      5785.059524\n",
       "Data Science Engineer                        6316.944444\n",
       "Data Science Manager                        13194.041667\n",
       "Data Scientist                               9015.652681\n",
       "Data Specialist                             13750.000000\n",
       "Director of Data Engineering                13061.500000\n",
       "Director of Data Science                    16256.166667\n",
       "ETL Developer                                4579.750000\n",
       "Finance Data Analyst                         5158.000000\n",
       "Financial Data Analyst                      22916.666667\n",
       "Head of Data                                13346.883333\n",
       "Head of Data Science                        12226.562500\n",
       "Head of Machine Learning                     6586.583333\n",
       "Lead Data Analyst                            7683.583333\n",
       "Lead Data Engineer                          11643.708333\n",
       "Lead Data Scientist                          9599.166667\n",
       "Lead Machine Learning Engineer               7327.666667\n",
       "ML Engineer                                  9792.000000\n",
       "Machine Learning Developer                   7155.055556\n",
       "Machine Learning Engineer                    8740.012195\n",
       "Machine Learning Infrastructure Engineer     8428.750000\n",
       "Machine Learning Manager                     9758.666667\n",
       "Machine Learning Scientist                  13201.041667\n",
       "Marketing Data Analyst                       7387.833333\n",
       "NLP Engineer                                 3103.000000\n",
       "Principal Data Analyst                      10208.333333\n",
       "Principal Data Engineer                     27361.111111\n",
       "Principal Data Scientist                    17936.869048\n",
       "Product Data Analyst                         1086.333333\n",
       "Research Scientist                           9084.958333\n",
       "Staff Data Scientist                         8750.000000\n",
       "Name: salary_by_month, dtype: float64"
      ]
     },
     "execution_count": 17,
     "metadata": {},
     "output_type": "execute_result"
    }
   ],
   "source": [
    "ds_salaries_df.groupby([\"job_title\"])[\"salary_by_month\"].mean()"
   ]
  },
  {
   "cell_type": "code",
   "execution_count": 18,
   "id": "58ff0b7f-ce90-41e5-8e65-f3b959ff5427",
   "metadata": {},
   "outputs": [
    {
     "data": {
      "text/plain": [
       "FT    588\n",
       "PT     10\n",
       "CT      5\n",
       "FL      4\n",
       "Name: employment_type, dtype: int64"
      ]
     },
     "execution_count": 18,
     "metadata": {},
     "output_type": "execute_result"
    }
   ],
   "source": [
    "ds_salaries_df.employment_type.value_counts()"
   ]
  },
  {
   "cell_type": "code",
   "execution_count": 19,
   "id": "75881648-8a8b-48e9-b47c-10ecd043b128",
   "metadata": {},
   "outputs": [
    {
     "data": {
      "image/png": "[encoded data removed]",
      "text/plain": [
       "<Figure size 432x288 with 1 Axes>"
      ]
     },
     "metadata": {},
     "output_type": "display_data"
    }
   ],
   "source": [
    "plt.pie(ds_salaries_df.employment_type.value_counts(), labels=ds_salaries_df.employment_type.value_counts().index)\n",
    "plt.show()"
   ]
  },
  {
   "cell_type": "code",
   "execution_count": 20,
   "id": "9755a132-7d82-450e-8ced-613b256429dd",
   "metadata": {},
   "outputs": [
    {
     "data": {
      "image/png": "[encoded data removed]",
      "text/plain": [
       "<Figure size 432x288 with 1 Axes>"
      ]
     },
     "metadata": {
      "needs_background": "light"
     },
     "output_type": "display_data"
    }
   ],
   "source": [
    "plt.bar(ds_salaries_df.employment_type.value_counts().index,ds_salaries_df.employment_type.value_counts())\n",
    "plt.show()"
   ]
  },
  {
   "cell_type": "markdown",
   "id": "34aed917-5265-45f6-ac5a-ff9bc10ff2f7",
   "metadata": {},
   "source": [
    "La gran mayoria de los DS trabajn FULL TIME"
   ]
  },
  {
   "cell_type": "code",
   "execution_count": 21,
   "id": "d509caa9-c337-4727-812e-0034754fd265",
   "metadata": {},
   "outputs": [
    {
     "data": {
      "image/png": "[encoded data removed]",
      "text/plain": [
       "<Figure size 432x288 with 1 Axes>"
      ]
     },
     "metadata": {
      "needs_background": "light"
     },
     "output_type": "display_data"
    }
   ],
   "source": [
    "plt.bar(ds_salaries_df.company_location.value_counts().index, ds_salaries_df.company_location.value_counts())\n",
    "plt.show()"
   ]
  },
  {
   "cell_type": "markdown",
   "id": "2099c98e-496e-4b03-afe8-e29a76d23398",
   "metadata": {},
   "source": [
    "La gran mayoria de los trabajos son en EEUU"
   ]
  },
  {
   "cell_type": "code",
   "execution_count": 22,
   "id": "024056bc-8db4-46f9-9dab-999e19667d2e",
   "metadata": {},
   "outputs": [
    {
     "data": {
      "text/plain": [
       "12004.605164319248"
      ]
     },
     "execution_count": 22,
     "metadata": {},
     "output_type": "execute_result"
    }
   ],
   "source": [
    "ds_salaries_df[ds_salaries_df.company_location==\"US\"].salary_by_month.mean()"
   ]
  },
  {
   "cell_type": "markdown",
   "id": "af4e006c-4536-4449-8867-e9c7e1bb6e7b",
   "metadata": {},
   "source": [
    "El salario promedio de EEUU 12000 es un poco mayor al salario promedio general 10000"
   ]
  },
  {
   "cell_type": "code",
   "execution_count": 23,
   "id": "558216a7-4ae2-4f3e-b236-8af0cc9f6964",
   "metadata": {},
   "outputs": [
    {
     "data": {
      "image/png": "[encoded data removed]",
      "text/plain": [
       "<Figure size 432x288 with 1 Axes>"
      ]
     },
     "metadata": {
      "needs_background": "light"
     },
     "output_type": "display_data"
    }
   ],
   "source": [
    "plt.hist(ds_salaries_df[\"remote_ratio\"])\n",
    "plt.show()"
   ]
  },
  {
   "cell_type": "raw",
   "id": "cb906508-1c1d-4760-a6b7-fd13b0751824",
   "metadata": {},
   "source": [
    "haciendolo con porcentaje"
   ]
  },
  {
   "cell_type": "code",
   "execution_count": 24,
   "id": "e2dbaefc-92f9-4ff8-884d-28be758c2fe7",
   "metadata": {},
   "outputs": [
    {
     "data": {
      "image/png": "[encoded data removed]",
      "text/plain": [
       "<Figure size 432x288 with 1 Axes>"
      ]
     },
     "metadata": {},
     "output_type": "display_data"
    }
   ],
   "source": [
    "plt.pie(ds_salaries_df.remote_ratio.value_counts(), labels=ds_salaries_df.remote_ratio.value_counts().index)\n",
    "plt.show()"
   ]
  },
  {
   "cell_type": "raw",
   "id": "71fe1c14-41c6-4f7a-a3cd-06512ad3d478",
   "metadata": {},
   "source": [
    "Mas de la mitad de los DS trabajan de forma 100% remota"
   ]
  },
  {
   "cell_type": "code",
   "execution_count": 25,
   "id": "c927700d-fb85-4440-821f-a1960d17879f",
   "metadata": {},
   "outputs": [
    {
     "data": {
      "text/html": [
       "<div>\n",
       "<style scoped>\n",
       "    .dataframe tbody tr th:only-of-type {\n",
       "        vertical-align: middle;\n",
       "    }\n",
       "\n",
       "    .dataframe tbody tr th {\n",
       "        vertical-align: top;\n",
       "    }\n",
       "\n",
       "    .dataframe thead th {\n",
       "        text-align: right;\n",
       "    }\n",
       "</style>\n",
       "<table border=\"1\" class=\"dataframe\">\n",
       "  <thead>\n",
       "    <tr style=\"text-align: right;\">\n",
       "      <th></th>\n",
       "      <th>Unnamed: 0</th>\n",
       "      <th>work_year</th>\n",
       "      <th>remote_ratio</th>\n",
       "      <th>salary_by_month</th>\n",
       "    </tr>\n",
       "  </thead>\n",
       "  <tbody>\n",
       "    <tr>\n",
       "      <th>Unnamed: 0</th>\n",
       "      <td>1.000000</td>\n",
       "      <td>0.886550</td>\n",
       "      <td>0.095000</td>\n",
       "      <td>0.167025</td>\n",
       "    </tr>\n",
       "    <tr>\n",
       "      <th>work_year</th>\n",
       "      <td>0.886550</td>\n",
       "      <td>1.000000</td>\n",
       "      <td>0.076314</td>\n",
       "      <td>0.170493</td>\n",
       "    </tr>\n",
       "    <tr>\n",
       "      <th>remote_ratio</th>\n",
       "      <td>0.095000</td>\n",
       "      <td>0.076314</td>\n",
       "      <td>1.000000</td>\n",
       "      <td>0.132122</td>\n",
       "    </tr>\n",
       "    <tr>\n",
       "      <th>salary_by_month</th>\n",
       "      <td>0.167025</td>\n",
       "      <td>0.170493</td>\n",
       "      <td>0.132122</td>\n",
       "      <td>1.000000</td>\n",
       "    </tr>\n",
       "  </tbody>\n",
       "</table>\n",
       "</div>"
      ],
      "text/plain": [
       "                 Unnamed: 0  work_year  remote_ratio  salary_by_month\n",
       "Unnamed: 0         1.000000   0.886550      0.095000         0.167025\n",
       "work_year          0.886550   1.000000      0.076314         0.170493\n",
       "remote_ratio       0.095000   0.076314      1.000000         0.132122\n",
       "salary_by_month    0.167025   0.170493      0.132122         1.000000"
      ]
     },
     "execution_count": 25,
     "metadata": {},
     "output_type": "execute_result"
    }
   ],
   "source": [
    "ds_salaries_df.corr()"
   ]
  },
  {
   "cell_type": "raw",
   "id": "4a8cd777-a4f0-463c-a211-7ae4859f0ec7",
   "metadata": {},
   "source": [
    "NO existe correlacion entre el remote radio o el año de trabajo con respecto al salario devengado"
   ]
  },
  {
   "cell_type": "code",
   "execution_count": 29,
   "id": "8bd7133d-1be1-4a3a-bf12-41dbcac61ea7",
   "metadata": {},
   "outputs": [
    {
     "data": {
      "text/plain": [
       "<seaborn.axisgrid.PairGrid at 0x7f8c041a5c10>"
      ]
     },
     "execution_count": 29,
     "metadata": {},
     "output_type": "execute_result"
    },
    {
     "data": {
      "image/png": "[encoded data removed]",
      "text/plain": [
       "<Figure size 720x720 with 20 Axes>"
      ]
     },
     "metadata": {
      "needs_background": "light"
     },
     "output_type": "display_data"
    }
   ],
   "source": [
    "sns.pairplot(ds_salaries_df)"
   ]
  }
 ],
 "metadata": {
  "kernelspec": {
   "display_name": "Python 3",
   "language": "python",
   "name": "python3"
  },
  "language_info": {
   "codemirror_mode": {
    "name": "ipython",
    "version": 3
   },
   "file_extension": ".py",
   "mimetype": "text/x-python",
   "name": "python",
   "nbconvert_exporter": "python",
   "pygments_lexer": "ipython3",
   "version": "3.8.8"
  }
 },
 "nbformat": 4,
 "nbformat_minor": 5
}
